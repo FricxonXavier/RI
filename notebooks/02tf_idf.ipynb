{
 "cells": [
  {
   "cell_type": "markdown",
   "id": "02e29a01",
   "metadata": {},
   "source": [
    "## ESCUELA POLITECNICA NACIONAL\n",
    "### Nombre: Fricxon Xavier Pambabay Valle\n",
    "### Curso: GR1CC"
   ]
  },
  {
   "cell_type": "markdown",
   "id": "c4fb3d35",
   "metadata": {},
   "source": [
    "### Cuantos terminos hay en el Corpus?"
   ]
  },
  {
   "cell_type": "code",
   "execution_count": 12,
   "id": "6f674398",
   "metadata": {},
   "outputs": [
    {
     "name": "stdout",
     "output_type": "stream",
     "text": [
      "Número de términos únicos: 145\n"
     ]
    }
   ],
   "source": [
    "import unicodedata\n",
    "import re\n",
    "\n",
    "def normalizar_palabra(palabra):\n",
    "    # Eliminar acentos\n",
    "    nfkd = unicodedata.normalize('NFKD', palabra)\n",
    "    sin_acentos = ''.join([c for c in nfkd if not unicodedata.combining(c)])\n",
    "    return sin_acentos.lower()\n",
    "\n",
    "def contar_terminos_unicos(nombre_archivo):\n",
    "    with open(nombre_archivo, 'r', encoding='utf-8') as f:\n",
    "        texto = f.read()\n",
    "\n",
    "    palabras = re.findall(r'\\b\\w+\\b', texto)\n",
    "    \n",
    "    # Normalizar palabras:sin tildes, todo en minúscula\n",
    "    palabras_normalizadas = {normalizar_palabra(p) for p in palabras}\n",
    "\n",
    "    return len(palabras_normalizadas)\n",
    "\n",
    "archivo = '../data/01_corpus_turismo.txt'\n",
    "total_terminos = contar_terminos_unicos(archivo)\n",
    "print(f\"Número de términos únicos: {total_terminos}\")\n"
   ]
  },
  {
   "cell_type": "markdown",
   "id": "3650b365",
   "metadata": {},
   "source": [
    "## Matriz tf -idf"
   ]
  },
  {
   "cell_type": "code",
   "execution_count": 10,
   "id": "8000e8ec",
   "metadata": {},
   "outputs": [
    {
     "name": "stdout",
     "output_type": "stream",
     "text": [
      "        termino  doc1  doc2  doc3  doc4  doc5  doc6  doc7  doc8  doc9  doc10  \\\n",
      "0          2000     0     0     0     0     0     0     0     0     0      1   \n",
      "1             a     0     0     0     0     0     0     1     1     0      1   \n",
      "2          agua     0     0     0     1     0     0     0     0     0      0   \n",
      "3     alrededor     0     0     0     0     0     0     0     0     0      0   \n",
      "4       altitud     0     0     0     0     0     0     0     0     0      0   \n",
      "..          ...   ...   ...   ...   ...   ...   ...   ...   ...   ...    ...   \n",
      "140  vilcabamba     0     0     0     0     0     0     0     0     0      0   \n",
      "141     visitan     0     0     0     0     0     0     0     0     0      0   \n",
      "142  visitantes     0     1     0     0     0     0     0     0     0      0   \n",
      "143      volcan     0     0     0     0     0     0     0     1     0      0   \n",
      "144           y     1     0     0     1     1     1     1     0     1      1   \n",
      "\n",
      "     doc11  doc12  doc13  doc14  doc15  doc16     idf  \n",
      "0        0      0      0      0      0      0  1.2041  \n",
      "1        0      0      3      0      0      0  0.6021  \n",
      "2        0      0      0      0      0      0  1.2041  \n",
      "3        1      0      0      0      0      0  1.2041  \n",
      "4        0      0      1      0      0      0  1.2041  \n",
      "..     ...    ...    ...    ...    ...    ...     ...  \n",
      "140      0      0      0      0      1      0  1.2041  \n",
      "141      0      1      0      0      0      0  1.2041  \n",
      "142      0      0      0      0      1      0  0.9031  \n",
      "143      0      0      0      0      0      0  1.2041  \n",
      "144      1      1      1      1      1      1  0.0902  \n",
      "\n",
      "[145 rows x 18 columns]\n"
     ]
    }
   ],
   "source": [
    "import math\n",
    "import pandas as pd\n",
    "\n",
    "def normalizar_palabra(palabra):\n",
    "    nfkd = unicodedata.normalize('NFKD', palabra)\n",
    "    sin_acentos = ''.join([c for c in nfkd if not unicodedata.combining(c)])\n",
    "    return sin_acentos.lower()\n",
    "\n",
    "def procesar_linea(linea):\n",
    "    palabras = re.findall(r'\\b\\w+\\b', linea)\n",
    "    return [normalizar_palabra(p) for p in palabras]\n",
    "\n",
    "def construir_matriz_tf_idf(nombre_archivo):\n",
    "    with open(nombre_archivo, 'r', encoding='utf-8') as f:\n",
    "        lineas = f.readlines()\n",
    "\n",
    "    total_docs = len(lineas)\n",
    "    documentos_procesados = []\n",
    "\n",
    "    for linea in lineas:\n",
    "        palabras = procesar_linea(linea)\n",
    "        documentos_procesados.append(palabras)\n",
    "\n",
    "    terminos = sorted(set(p for doc in documentos_procesados for p in doc))\n",
    "\n",
    "    matriz = []\n",
    "    for termino in terminos:  # por cada término\n",
    "        fila = [termino]\n",
    "        df = 0  # Document Frequency\n",
    "        for doc in documentos_procesados: # por cada documento\n",
    "            tf = 0\n",
    "            for palabra in doc:  # contar ocurrencias\n",
    "                if palabra == termino:\n",
    "                    tf += 1\n",
    "            if tf > 0:\n",
    "                df += 1\n",
    "            fila.append(tf)\n",
    "        idf = math.log10(total_docs / df) if df > 0 else 0\n",
    "        fila.append(round(idf, 4))\n",
    "        matriz.append(fila)\n",
    "\n",
    "    columnas = ['termino'] + [f'doc{i+1}' for i in range(total_docs)] + ['idf']\n",
    "    df = pd.DataFrame(matriz, columns=columnas)\n",
    "    return df\n",
    "\n",
    "df_resultado = construir_matriz_tf_idf('../data/01_corpus_turismo.txt')\n",
    "print(df_resultado)\n"
   ]
  }
 ],
 "metadata": {
  "kernelspec": {
   "display_name": "base",
   "language": "python",
   "name": "python3"
  },
  "language_info": {
   "codemirror_mode": {
    "name": "ipython",
    "version": 3
   },
   "file_extension": ".py",
   "mimetype": "text/x-python",
   "name": "python",
   "nbconvert_exporter": "python",
   "pygments_lexer": "ipython3",
   "version": "3.12.7"
  }
 },
 "nbformat": 4,
 "nbformat_minor": 5
}
